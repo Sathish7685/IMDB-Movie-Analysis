{
  "nbformat": 4,
  "nbformat_minor": 0,
  "metadata": {
    "colab": {
      "provenance": []
    },
    "kernelspec": {
      "name": "python3",
      "display_name": "Python 3"
    },
    "language_info": {
      "name": "python"
    }
  },
  "cells": [
    {
      "cell_type": "code",
      "execution_count": 1,
      "metadata": {
        "colab": {
          "base_uri": "https://localhost:8080/"
        },
        "id": "n6ELSAZIHBRB",
        "outputId": "729dd94e-6884-4a03-cc53-0ef47354ab98"
      },
      "outputs": [
        {
          "output_type": "stream",
          "name": "stdout",
          "text": [
            "Saved movies to movies.csv\n",
            "Saved financials to financials.csv\n",
            "Saved actors to actors.csv\n",
            "Saved movie_actor to movie_actor.csv\n",
            "Saved languages to languages.csv\n"
          ]
        }
      ],
      "source": [
        "import pandas as pd\n",
        "\n",
        "# Load the .xlsx file with multiple sheets\n",
        "xlsx_file = \"/content/movies-db-1.xlsx\"\n",
        "all_sheets = pd.read_excel(xlsx_file, sheet_name=None)\n",
        "\n",
        "# Save each sheet as a separate .csv file\n",
        "for sheet_name, data in all_sheets.items():\n",
        "    csv_file = f\"{sheet_name}.csv\"\n",
        "    data.to_csv(csv_file, index=False)\n",
        "    print(f\"Saved {sheet_name} to {csv_file}\")\n"
      ]
    }
  ]
}